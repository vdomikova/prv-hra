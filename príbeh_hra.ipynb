{
  "nbformat": 4,
  "nbformat_minor": 0,
  "metadata": {
    "colab": {
      "provenance": [],
      "authorship_tag": "ABX9TyOMvJEK9SsMRV5FapKOqS26",
      "include_colab_link": true
    },
    "kernelspec": {
      "name": "python3",
      "display_name": "Python 3"
    },
    "language_info": {
      "name": "python"
    }
  },
  "cells": [
    {
      "cell_type": "markdown",
      "metadata": {
        "id": "view-in-github",
        "colab_type": "text"
      },
      "source": [
        "<a href=\"https://colab.research.google.com/github/vdomikova/prv-hra/blob/main/pr%C3%ADbeh_hra.ipynb\" target=\"_parent\"><img src=\"https://colab.research.google.com/assets/colab-badge.svg\" alt=\"Open In Colab\"/></a>"
      ]
    },
    {
      "cell_type": "code",
      "execution_count": null,
      "metadata": {
        "id": "C4ND_hzVK-Yp"
      },
      "outputs": [],
      "source": []
    },
    {
      "cell_type": "markdown",
      "source": [
        "# Príbeh hry\n",
        "\n",
        "Príbeh s dvomi možnosťami a konci. Po výberu sa vytvorí ďalší časť príbehu. Vždy je len jedna možnosť správna\n",
        "**Postup:**\n",
        "1. Napíš príbeh\n",
        "2. Zvol si kde chceš ísť"
      ],
      "metadata": {
        "id": "EiwqtsxhK_Un"
      }
    },
    {
      "cell_type": "code",
      "source": [
        "# prompt: Príbeh s dvomi možnosťami a konci. Po výberu sa vytvorí ďalší časť príbehu. Vždy je len jedna možnosť správna\n",
        "\n",
        "# @markdown **Začíname:**\n",
        "prvy_krok = 'Cesta na hrad' #@param [\"Cesta na hrad\", \"Prechádzka lesom\"]\n",
        "if prvy_krok == \"Cesta na hrad\":\n",
        "  druhy_krok = 'Stretnutie s drakom' #@param [\"Stretnutie s drakom\", \"Nájdenie pokladu\"]\n",
        "  if druhy_krok == \"Stretnutie s drakom\":\n",
        "    posledny_krok = 'Boj' #@param [\"Boj\", \"Útek\"]\n",
        "    if posledny_krok == \"Boj\":\n",
        "      print(\"Vyhral si!\")\n",
        "    else:\n",
        "      print(\"Bol si porazený.\")\n",
        "  else:\n",
        "    print(\"Našiel si prázdnu truhlicu.\")\n",
        "else:\n",
        "  print(\"Zablúdil si.\")"
      ],
      "metadata": {
        "colab": {
          "base_uri": "https://localhost:8080/"
        },
        "id": "ilYywhlUL1CI",
        "outputId": "9585d011-cc56-4d82-aab7-a4add3b3c5db"
      },
      "execution_count": 1,
      "outputs": [
        {
          "output_type": "stream",
          "name": "stdout",
          "text": [
            "Vyhral si!\n"
          ]
        }
      ]
    }
  ]
}